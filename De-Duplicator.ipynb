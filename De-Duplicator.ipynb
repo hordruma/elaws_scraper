{
 "cells": [
  {
   "cell_type": "code",
   "execution_count": null,
   "metadata": {},
   "outputs": [],
   "source": [
    "#Perform imports \n",
    "import os\n",
    "import json"
   ]
  },
  {
   "cell_type": "code",
   "execution_count": null,
   "metadata": {},
   "outputs": [],
   "source": [
    "#Function to find and delete duplicated\n",
    "def delete_duplicate_json_files(json_folder):\n",
    "    \"\"\"\n",
    "    Delete duplicate JSON files in a specified folder based on unique combinations of `full_title` and `url` values found within the files.\n",
    "\n",
    "    The function identifies duplicates by checking if the combination of `full_title` and `url` from either 'act_info' or 'reg_info' keys in each JSON file has been seen before. If a duplicate is found, it is deleted from the folder.\n",
    "\n",
    "    Parameters:\n",
    "    json_folder (str): The path to the directory containing the JSON files.\n",
    "\n",
    "    Returns:\n",
    "    None: The function returns nothing but deletes duplicate files from the specified directory and prints out the status of various operations.\n",
    "\n",
    "    Raises:\n",
    "    PermissionError: If the function fails to delete a file due to permission issues.\n",
    "\n",
    "    Example:\n",
    "    >>> json_folder = r'C:\\\\example_json_folder'\n",
    "    >>> delete_duplicate_json_files(json_folder)\n",
    "    \"\"\"\n",
    "    seen_combinations = set()  # Set to store unique combinations of full_title and url\n",
    "\n",
    "    for file in os.listdir(json_folder):\n",
    "        if file.endswith(\".json\"):\n",
    "            file_path = os.path.join(json_folder, file)\n",
    "            with open(file_path, 'r', encoding='utf-8') as f:\n",
    "                try:\n",
    "                    json_data = json.load(f)\n",
    "                except json.JSONDecodeError:\n",
    "                    continue  # Skip files that are not valid JSON\n",
    "\n",
    "                # Extract full_title and url\n",
    "                if 'act_info' in json_data:\n",
    "                    full_title = json_data['act_info'].get('full_title', '')\n",
    "                    url = json_data['act_info'].get('url', '')\n",
    "                    unique_key = (full_title, url)\n",
    "\n",
    "                    # Check if this combination has been seen before\n",
    "                    if unique_key in seen_combinations:\n",
    "                        # Duplicate found, delete the file\n",
    "                        os.remove(file_path)\n",
    "                        print(f\"Deleted duplicate file: {file}\")\n",
    "                    else:\n",
    "                        # New combination, add to the set\n",
    "                        seen_combinations.add(unique_key)"
   ]
  }
 ],
 "metadata": {
  "kernelspec": {
   "display_name": "Python 3",
   "language": "python",
   "name": "python3"
  },
  "language_info": {
   "codemirror_mode": {
    "name": "ipython",
    "version": 3
   },
   "file_extension": ".py",
   "mimetype": "text/x-python",
   "name": "python",
   "nbconvert_exporter": "python",
   "pygments_lexer": "ipython3",
   "version": "3.12.0"
  }
 },
 "nbformat": 4,
 "nbformat_minor": 2
}
